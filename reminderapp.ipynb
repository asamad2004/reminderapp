{
 "cells": [
  {
   "cell_type": "code",
   "execution_count": 6,
   "id": "d7ae2531-f8c9-4351-9667-117cc043a67f",
   "metadata": {},
   "outputs": [
    {
     "name": "stdout",
     "output_type": "stream",
     "text": [
      "Before you leave for office/college, make sure you have the following items:\n",
      "- keys\n",
      "- wallet\n",
      "- phone\n",
      "- laptop\n",
      "- charger\n"
     ]
    },
    {
     "name": "stdin",
     "output_type": "stream",
     "text": [
      "\n",
      "Are you ready to leave? (yes/no):  no\n"
     ]
    },
    {
     "name": "stdout",
     "output_type": "stream",
     "text": [
      "Take your time and check your items again.\n"
     ]
    },
    {
     "name": "stdin",
     "output_type": "stream",
     "text": [
      "Enter an item to check if it's on your list:  bottle\n"
     ]
    },
    {
     "name": "stdout",
     "output_type": "stream",
     "text": [
      "No, bottle is not on your list.\n",
      "Valid input!\n"
     ]
    },
    {
     "name": "stdin",
     "output_type": "stream",
     "text": [
      "Do you want to add an item to your list? (yes/no):  yes\n",
      "Enter the item you want to add:  bottle\n"
     ]
    },
    {
     "name": "stdout",
     "output_type": "stream",
     "text": [
      "New item 'bottle' added!\n",
      "\n",
      "Updated list of essential items:\n",
      "- keys\n",
      "- wallet\n",
      "- phone\n",
      "- laptop\n",
      "- charger\n",
      "- bottle\n"
     ]
    },
    {
     "name": "stdin",
     "output_type": "stream",
     "text": [
      "\n",
      "Are you sure you have everything? (yes/no):  yes\n"
     ]
    },
    {
     "name": "stdout",
     "output_type": "stream",
     "text": [
      "Goodbye! Have a great day!\n"
     ]
    }
   ],
   "source": [
    "#List of essential items\n",
    "essential_items = [\"keys\", \"wallet\", \"phone\", \"laptop\", \"charger\"]\n",
    "\n",
    "# Printing the initial reminder message\n",
    "print(\"Before you leave for office/college, make sure you have the following items:\")\n",
    "\n",
    "# Loop through the list and print each item\n",
    "for item in essential_items:\n",
    "    print(f\"- {item}\")\n",
    "\n",
    "# Taking user input to check if they're ready to leave\n",
    "ready_to_leave = input(\"\\nAre you ready to leave? (yes/no): \").lower()\n",
    "\n",
    "# Conditional check if user is ready to leave\n",
    "if ready_to_leave == \"yes\":\n",
    "    print(\"Great! Have a productive day!\")\n",
    "else:\n",
    "    print(\"Take your time and check your items again.\")\n",
    "\n",
    "# Asking user to enter an item to check if it's on the list\n",
    "user_item = input(\"Enter an item to check if it's on your list: \").lower()\n",
    "\n",
    "# Checking if the user input item is on the list\n",
    "if user_item in essential_items:\n",
    "    print(f\"Yes, {user_item} is on your list!\")\n",
    "else:\n",
    "    print(f\"No, {user_item} is not on your list.\")\n",
    "\n",
    "# Validate if user input is alphabetic\n",
    "if user_item.isalpha():\n",
    "    print(\"Valid input!\")\n",
    "else:\n",
    "    print(\"Please enter a valid item.\")\n",
    "\n",
    "# Option to add new items to the list\n",
    "add_item = input(\"Do you want to add an item to your list? (yes/no): \").lower()\n",
    "\n",
    "if add_item == \"yes\":\n",
    "    new_item = input(\"Enter the item you want to add: \").lower()\n",
    "    essential_items.append(new_item)\n",
    "    print(f\"New item '{new_item}' added!\")\n",
    "else:\n",
    "    print(\"No new item added.\")\n",
    "\n",
    "# Loop to print updated list of essential items\n",
    "print(\"\\nUpdated list of essential items:\")\n",
    "for item in essential_items:\n",
    "    print(f\"- {item}\")\n",
    "\n",
    "# Final check to confirm user is ready to leave\n",
    "ready_to_leave = input(\"\\nAre you sure you have everything? (yes/no): \").lower()\n",
    "\n",
    "if ready_to_leave == \"yes\":\n",
    "    print(\"Goodbye! Have a great day!\")\n",
    "else:\n",
    "    print(\"Please check your items again before leaving.\")"
   ]
  },
  {
   "cell_type": "code",
   "execution_count": null,
   "id": "db41f706-172a-4778-a21d-562017de7129",
   "metadata": {},
   "outputs": [],
   "source": []
  }
 ],
 "metadata": {
  "kernelspec": {
   "display_name": "Python [conda env:base] *",
   "language": "python",
   "name": "conda-base-py"
  },
  "language_info": {
   "codemirror_mode": {
    "name": "ipython",
    "version": 3
   },
   "file_extension": ".py",
   "mimetype": "text/x-python",
   "name": "python",
   "nbconvert_exporter": "python",
   "pygments_lexer": "ipython3",
   "version": "3.12.7"
  }
 },
 "nbformat": 4,
 "nbformat_minor": 5
}
