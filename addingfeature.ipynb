{
 "cells": [
  {
   "cell_type": "code",
   "execution_count": 12,
   "id": "f931bfed-927b-4f52-9f7f-d2c54dc2a7c6",
   "metadata": {},
   "outputs": [
    {
     "name": "stdout",
     "output_type": "stream",
     "text": [
      "Before you leave for office/college, make sure you have the following items:\n",
      "- keys\n",
      "- wallet\n",
      "- phone\n",
      "- laptop\n",
      "- charger\n"
     ]
    },
    {
     "name": "stdin",
     "output_type": "stream",
     "text": [
      "\n",
      "Are you ready to leave? (yes/no):  no\n"
     ]
    },
    {
     "name": "stdout",
     "output_type": "stream",
     "text": [
      "Take your time and check your items again.\n"
     ]
    },
    {
     "name": "stdin",
     "output_type": "stream",
     "text": [
      "Enter an item to check if it's on your list:  bottle\n"
     ]
    },
    {
     "name": "stdout",
     "output_type": "stream",
     "text": [
      "No, bottle is not on your list.\n",
      "Valid input!\n"
     ]
    },
    {
     "name": "stdin",
     "output_type": "stream",
     "text": [
      "Do you want to add an item to your list? (yes/no):  yes\n",
      "Enter the item you want to add:  bottle\n"
     ]
    },
    {
     "name": "stdout",
     "output_type": "stream",
     "text": [
      "New item 'bottle' added!\n"
     ]
    },
    {
     "name": "stdin",
     "output_type": "stream",
     "text": [
      "\n",
      "Do you want to remove an item from your list? (yes/no):  yes\n",
      "Enter the item you want to remove:  charger\n"
     ]
    },
    {
     "name": "stdout",
     "output_type": "stream",
     "text": [
      "'charger' has been removed from the list.\n",
      "\n",
      "Updated list of essential items:\n",
      "- keys\n",
      "- wallet\n",
      "- phone\n",
      "- laptop\n",
      "- bottle\n"
     ]
    },
    {
     "name": "stdin",
     "output_type": "stream",
     "text": [
      "\n",
      "Are you sure you have everything? (yes/no):  yes\n"
     ]
    },
    {
     "name": "stdout",
     "output_type": "stream",
     "text": [
      "Goodbye! Have a great day!\n"
     ]
    }
   ],
   "source": [
    "# List of essential items\n",
    "essential_items = [\"keys\", \"wallet\", \"phone\", \"laptop\", \"charger\"]\n",
    "\n",
    "# Printing the initial reminder message\n",
    "print(\"Before you leave for office/college, make sure you have the following items:\")\n",
    "\n",
    "# Loop through the list and print each item\n",
    "for item in essential_items:\n",
    "    print(f\"- {item}\")\n",
    "\n",
    "# Taking user input to check if they're ready to leave\n",
    "ready_to_leave = input(\"\\nAre you ready to leave? (yes/no): \").lower()\n",
    "\n",
    "# Conditional check if user is ready to leave\n",
    "if ready_to_leave == \"yes\":\n",
    "    print(\"Great! Have a productive day!\")\n",
    "else:\n",
    "    print(\"Take your time and check your items again.\")\n",
    "\n",
    "# Asking user to enter an item to check if it's on the list\n",
    "user_item = input(\"Enter an item to check if it's on your list: \").lower()\n",
    "\n",
    "# Checking if the user input item is on the list\n",
    "if user_item in essential_items:\n",
    "    print(f\"Yes, {user_item} is on your list!\")\n",
    "else:\n",
    "    print(f\"No, {user_item} is not on your list.\")\n",
    "\n",
    "# Validate if user input is alphabetic\n",
    "if user_item.isalpha():\n",
    "    print(\"Valid input!\")\n",
    "else:\n",
    "    print(\"Please enter a valid item.\")\n",
    "\n",
    "# Option to add new items to the list\n",
    "add_item = input(\"Do you want to add an item to your list? (yes/no): \").lower()\n",
    "\n",
    "if add_item == \"yes\":\n",
    "    new_item = input(\"Enter the item you want to add: \").lower()\n",
    "    essential_items.append(new_item)\n",
    "    print(f\"New item '{new_item}' added!\")\n",
    "else:\n",
    "    print(\"No new item added.\")\n",
    "\n",
    "# New Feature: Option to remove items from the list\n",
    "remove_item = input(\"\\nDo you want to remove an item from your list? (yes/no): \").lower()\n",
    "\n",
    "if remove_item == \"yes\":\n",
    "    item_to_remove = input(\"Enter the item you want to remove: \").lower()\n",
    "    \n",
    "    # Check if the item exists before trying to remove it\n",
    "    if item_to_remove in essential_items:\n",
    "        essential_items.remove(item_to_remove)\n",
    "        print(f\"'{item_to_remove}' has been removed from the list.\")\n",
    "    else:\n",
    "        print(f\"'{item_to_remove}' is not in your list.\")\n",
    "else:\n",
    "    print(\"No items removed.\")\n",
    "\n",
    "# Loop to print updated list of essential items\n",
    "print(\"\\nUpdated list of essential items:\")\n",
    "for item in essential_items:\n",
    "    print(f\"- {item}\")\n",
    "\n",
    "# Final check to confirm user is ready to leave\n",
    "ready_to_leave = input(\"\\nAre you sure you have everything? (yes/no): \").lower()\n",
    "\n",
    "if ready_to_leave == \"yes\":\n",
    "    print(\"Goodbye! Have a great day!\")\n",
    "else:\n",
    "    print(\"Please check your items again before leaving.\")\n"
   ]
  },
  {
   "cell_type": "code",
   "execution_count": 14,
   "id": "435e0b5b-0667-4bbf-b4d0-0bd3a830351c",
   "metadata": {},
   "outputs": [
    {
     "name": "stdout",
     "output_type": "stream",
     "text": [
      "Before you leave for office/college, make sure you have the following items:\n",
      "- keys\n",
      "- wallet\n",
      "- phone\n",
      "- laptop\n",
      "- charger\n"
     ]
    },
    {
     "name": "stdin",
     "output_type": "stream",
     "text": [
      "\n",
      "Are you ready to leave? (yes/no):  no\n"
     ]
    },
    {
     "name": "stdout",
     "output_type": "stream",
     "text": [
      "Take your time and check your items again.\n"
     ]
    },
    {
     "name": "stdin",
     "output_type": "stream",
     "text": [
      "Enter an item to check if it's on your list:  bottle\n"
     ]
    },
    {
     "name": "stdout",
     "output_type": "stream",
     "text": [
      "No, bottle is not on your list.\n",
      "Valid input!\n"
     ]
    },
    {
     "name": "stdin",
     "output_type": "stream",
     "text": [
      "Do you want to add an item to your list? (yes/no):  yes\n",
      "Enter the item you want to add:  bottle\n"
     ]
    },
    {
     "name": "stdout",
     "output_type": "stream",
     "text": [
      "New item 'bottle' added!\n"
     ]
    },
    {
     "name": "stdin",
     "output_type": "stream",
     "text": [
      "\n",
      "Do you want to remove an item from your list? (yes/no):  yes\n",
      "Enter the item you want to remove:  charger\n"
     ]
    },
    {
     "name": "stdout",
     "output_type": "stream",
     "text": [
      "'charger' has been removed from the list.\n",
      "\n",
      "Updated list of essential items:\n",
      "- keys\n",
      "- wallet\n",
      "- phone\n",
      "- laptop\n",
      "- bottle\n"
     ]
    },
    {
     "name": "stdin",
     "output_type": "stream",
     "text": [
      "\n",
      "Are you ready to leave? (yes/no):  no\n"
     ]
    },
    {
     "name": "stdout",
     "output_type": "stream",
     "text": [
      "Take your time and check your items again.\n"
     ]
    },
    {
     "name": "stdin",
     "output_type": "stream",
     "text": [
      "Enter an item to check if it's on your list:  charger\n"
     ]
    },
    {
     "name": "stdout",
     "output_type": "stream",
     "text": [
      "No, charger is not on your list.\n",
      "Valid input!\n"
     ]
    },
    {
     "name": "stdin",
     "output_type": "stream",
     "text": [
      "Do you want to add an item to your list? (yes/no):  no\n"
     ]
    },
    {
     "name": "stdout",
     "output_type": "stream",
     "text": [
      "No new item added.\n"
     ]
    },
    {
     "name": "stdin",
     "output_type": "stream",
     "text": [
      "\n",
      "Do you want to remove an item from your list? (yes/no):  no\n"
     ]
    },
    {
     "name": "stdout",
     "output_type": "stream",
     "text": [
      "No items removed.\n",
      "\n",
      "Updated list of essential items:\n",
      "- keys\n",
      "- wallet\n",
      "- phone\n",
      "- laptop\n",
      "- bottle\n"
     ]
    },
    {
     "name": "stdin",
     "output_type": "stream",
     "text": [
      "\n",
      "Are you ready to leave? (yes/no):  yes\n"
     ]
    },
    {
     "name": "stdout",
     "output_type": "stream",
     "text": [
      "Great! Have a productive day!\n",
      "Goodbye! Have a great day!\n"
     ]
    }
   ],
   "source": [
    "# List of essential items\n",
    "essential_items = [\"keys\", \"wallet\", \"phone\", \"laptop\", \"charger\"]\n",
    "\n",
    "# Printing the initial reminder message\n",
    "print(\"Before you leave for office/college, make sure you have the following items:\")\n",
    "\n",
    "# Loop through the list and print each item\n",
    "for item in essential_items:\n",
    "    print(f\"- {item}\")\n",
    "\n",
    "# Loop until the user confirms they are ready to leave\n",
    "while True:\n",
    "    # Taking user input to check if they're ready to leave\n",
    "    ready_to_leave = input(\"\\nAre you ready to leave? (yes/no): \").lower()\n",
    "\n",
    "    # Conditional check if user is ready to leave\n",
    "    if ready_to_leave == \"yes\":\n",
    "        print(\"Great! Have a productive day!\")\n",
    "        break  # Exit the loop if the user is ready\n",
    "    else:\n",
    "        print(\"Take your time and check your items again.\")\n",
    "\n",
    "    # Asking user to enter an item to check if it's on the list\n",
    "    user_item = input(\"Enter an item to check if it's on your list: \").lower()\n",
    "\n",
    "    # Checking if the user input item is on the list\n",
    "    if user_item in essential_items:\n",
    "        print(f\"Yes, {user_item} is on your list!\")\n",
    "    else:\n",
    "        print(f\"No, {user_item} is not on your list.\")\n",
    "\n",
    "    # Validate if user input is alphabetic\n",
    "    if user_item.isalpha():\n",
    "        print(\"Valid input!\")\n",
    "    else:\n",
    "        print(\"Please enter a valid item.\")\n",
    "\n",
    "    # Option to add new items to the list\n",
    "    add_item = input(\"Do you want to add an item to your list? (yes/no): \").lower()\n",
    "\n",
    "    if add_item == \"yes\":\n",
    "        new_item = input(\"Enter the item you want to add: \").lower()\n",
    "        essential_items.append(new_item)\n",
    "        print(f\"New item '{new_item}' added!\")\n",
    "    else:\n",
    "        print(\"No new item added.\")\n",
    "\n",
    "    # Option to remove items from the list\n",
    "    remove_item = input(\"\\nDo you want to remove an item from your list? (yes/no): \").lower()\n",
    "\n",
    "    if remove_item == \"yes\":\n",
    "        item_to_remove = input(\"Enter the item you want to remove: \").lower()\n",
    "\n",
    "        # Check if the item exists before trying to remove it\n",
    "        if item_to_remove in essential_items:\n",
    "            essential_items.remove(item_to_remove)\n",
    "            print(f\"'{item_to_remove}' has been removed from the list.\")\n",
    "        else:\n",
    "            print(f\"'{item_to_remove}' is not in your list.\")\n",
    "    else:\n",
    "        print(\"No items removed.\")\n",
    "\n",
    "    # Loop to print updated list of essential items\n",
    "    print(\"\\nUpdated list of essential items:\")\n",
    "    for item in essential_items:\n",
    "        print(f\"- {item}\")\n",
    "\n",
    "print(\"Goodbye! Have a great day!\")\n"
   ]
  },
  {
   "cell_type": "code",
   "execution_count": 16,
   "id": "8093a6ff-447d-4a72-8d21-ccb14c84a356",
   "metadata": {},
   "outputs": [
    {
     "name": "stdout",
     "output_type": "stream",
     "text": [
      "Before you leave for office/college, make sure you have the following items:\n",
      "- keys\n",
      "- wallet\n",
      "- phone\n",
      "- laptop\n",
      "- charger\n"
     ]
    },
    {
     "name": "stdin",
     "output_type": "stream",
     "text": [
      "\n",
      "Are you ready to leave? (yes/no):  no\n",
      "Enter an item to check if it's on your list:  bottle\n"
     ]
    },
    {
     "name": "stdout",
     "output_type": "stream",
     "text": [
      "No, bottle is not on your list.\n",
      "Valid input!\n",
      "Take your time and check your items again.\n"
     ]
    },
    {
     "name": "stdin",
     "output_type": "stream",
     "text": [
      "Do you want to add an item to your list? (yes/no):  yes\n",
      "Enter the item you want to add:  bottle\n"
     ]
    },
    {
     "name": "stdout",
     "output_type": "stream",
     "text": [
      "New item 'bottle' added!\n"
     ]
    },
    {
     "name": "stdin",
     "output_type": "stream",
     "text": [
      "\n",
      "Do you want to remove an item from your list? (yes/no):  yes\n",
      "Enter the item you want to remove:  charger\n"
     ]
    },
    {
     "name": "stdout",
     "output_type": "stream",
     "text": [
      "'charger' has been removed from the list.\n",
      "\n",
      "Updated list of essential items:\n",
      "- keys\n",
      "- wallet\n",
      "- phone\n",
      "- laptop\n",
      "- bottle\n"
     ]
    },
    {
     "name": "stdin",
     "output_type": "stream",
     "text": [
      "\n",
      "Are you ready to leave? (yes/no):  no\n",
      "Enter an item to check if it's on your list:  bottle\n"
     ]
    },
    {
     "name": "stdout",
     "output_type": "stream",
     "text": [
      "Yes, bottle is on your list!\n",
      "Valid input!\n",
      "Take your time and check your items again.\n"
     ]
    },
    {
     "name": "stdin",
     "output_type": "stream",
     "text": [
      "Do you want to add an item to your list? (yes/no):  no\n"
     ]
    },
    {
     "name": "stdout",
     "output_type": "stream",
     "text": [
      "No new item added.\n"
     ]
    },
    {
     "name": "stdin",
     "output_type": "stream",
     "text": [
      "\n",
      "Do you want to remove an item from your list? (yes/no):  no\n"
     ]
    },
    {
     "name": "stdout",
     "output_type": "stream",
     "text": [
      "No items removed.\n",
      "\n",
      "Updated list of essential items:\n",
      "- keys\n",
      "- wallet\n",
      "- phone\n",
      "- laptop\n",
      "- bottle\n"
     ]
    },
    {
     "name": "stdin",
     "output_type": "stream",
     "text": [
      "\n",
      "Are you ready to leave? (yes/no):  yes\n",
      "Enter an item to check if it's on your list:  bottle\n"
     ]
    },
    {
     "name": "stdout",
     "output_type": "stream",
     "text": [
      "Yes, bottle is on your list!\n",
      "Valid input!\n",
      "You're ready and bottle is packed!\n",
      "Goodbye! Have a great day!\n"
     ]
    }
   ],
   "source": [
    "# List of essential items\n",
    "essential_items = [\"keys\", \"wallet\", \"phone\", \"laptop\", \"charger\"]\n",
    "\n",
    "# Printing the initial reminder message\n",
    "print(\"Before you leave for office/college, make sure you have the following items:\")\n",
    "\n",
    "# Loop through the list and print each item\n",
    "for item in essential_items:\n",
    "    print(f\"- {item}\")\n",
    "\n",
    "# Loop until the user confirms they are ready to leave\n",
    "while True:\n",
    "    # Taking user input to check if they're ready to leave\n",
    "    ready_to_leave = input(\"\\nAre you ready to leave? (yes/no): \").lower()\n",
    "\n",
    "    # Asking user to enter an item to check if it's on the list\n",
    "    user_item = input(\"Enter an item to check if it's on your list: \").lower()\n",
    "\n",
    "    # Checking if the user input item is on the list\n",
    "    if user_item in essential_items:\n",
    "        print(f\"Yes, {user_item} is on your list!\")\n",
    "    else:\n",
    "        print(f\"No, {user_item} is not on your list.\")\n",
    "\n",
    "    # Validate if user input is alphabetic\n",
    "    if user_item.isalpha():\n",
    "        print(\"Valid input!\")\n",
    "    else:\n",
    "        print(\"Please enter a valid item.\")\n",
    "\n",
    "    # Check if the user is ready and their item is packed\n",
    "    if ready_to_leave == \"yes\" and user_item in essential_items:\n",
    "        print(f\"You're ready and {user_item} is packed!\")\n",
    "        break  # Exit the loop since the user is ready\n",
    "\n",
    "    print(\"Take your time and check your items again.\")\n",
    "\n",
    "    # Option to add new items to the list\n",
    "    add_item = input(\"Do you want to add an item to your list? (yes/no): \").lower()\n",
    "\n",
    "    if add_item == \"yes\":\n",
    "        new_item = input(\"Enter the item you want to add: \").lower()\n",
    "        essential_items.append(new_item)\n",
    "        print(f\"New item '{new_item}' added!\")\n",
    "    else:\n",
    "        print(\"No new item added.\")\n",
    "\n",
    "    # Option to remove items from the list\n",
    "    remove_item = input(\"\\nDo you want to remove an item from your list? (yes/no): \").lower()\n",
    "\n",
    "    if remove_item == \"yes\":\n",
    "        item_to_remove = input(\"Enter the item you want to remove: \").lower()\n",
    "\n",
    "        # Check if the item exists before trying to remove it\n",
    "        if item_to_remove in essential_items:\n",
    "            essential_items.remove(item_to_remove)\n",
    "            print(f\"'{item_to_remove}' has been removed from the list.\")\n",
    "        else:\n",
    "            print(f\"'{item_to_remove}' is not in your list.\")\n",
    "    else:\n",
    "        print(\"No items removed.\")\n",
    "\n",
    "    # Loop to print updated list of essential items\n",
    "    print(\"\\nUpdated list of essential items:\")\n",
    "    for item in essential_items:\n",
    "        print(f\"- {item}\")\n",
    "\n",
    "print(\"Goodbye! Have a great day!\")\n"
   ]
  },
  {
   "cell_type": "code",
   "execution_count": 20,
   "id": "72f3019d-14d5-4854-969c-051654810bd5",
   "metadata": {},
   "outputs": [
    {
     "name": "stdout",
     "output_type": "stream",
     "text": [
      "Before you leave for office/college, make sure you have the following items:\n",
      "- keys\n",
      "- wallet\n",
      "- phone\n",
      "- laptop\n",
      "- charger\n"
     ]
    },
    {
     "name": "stdin",
     "output_type": "stream",
     "text": [
      "\n",
      "Are you ready to leave? (yes/no):  no\n",
      "Enter an item to check if it's on your list:  bottle\n"
     ]
    },
    {
     "name": "stdout",
     "output_type": "stream",
     "text": [
      "No, bottle is not on your list.\n",
      "Valid input!\n",
      "Don't forget your keys!\n",
      "Don't forget your phone!\n",
      "Don't forget your laptop!\n",
      "Don't forget your charger!\n",
      "Take your time and check your items again.\n"
     ]
    },
    {
     "name": "stdin",
     "output_type": "stream",
     "text": [
      "Do you want to add an item to your list? (yes/no):  yes\n",
      "Enter the item you want to add:  bottle\n"
     ]
    },
    {
     "name": "stdout",
     "output_type": "stream",
     "text": [
      "New item 'bottle' added!\n"
     ]
    },
    {
     "name": "stdin",
     "output_type": "stream",
     "text": [
      "\n",
      "Do you want to remove an item from your list? (yes/no):  yes\n",
      "Enter the item you want to remove:  charger\n"
     ]
    },
    {
     "name": "stdout",
     "output_type": "stream",
     "text": [
      "'charger' has been removed from the list.\n",
      "\n",
      "Updated list of essential items:\n",
      "- keys\n",
      "- wallet\n",
      "- phone\n",
      "- laptop\n",
      "- bottle\n"
     ]
    },
    {
     "name": "stdin",
     "output_type": "stream",
     "text": [
      "\n",
      "Are you ready to leave? (yes/no):  yes\n",
      "Enter an item to check if it's on your list:  bottle\n"
     ]
    },
    {
     "name": "stdout",
     "output_type": "stream",
     "text": [
      "Yes, bottle is on your list!\n",
      "Valid input!\n",
      "Don't forget your keys!\n",
      "Don't forget your phone!\n",
      "Don't forget your laptop!\n",
      "Don't forget your bottle!\n",
      "You're ready and bottle is packed!\n",
      "Goodbye! Have a great day!\n"
     ]
    }
   ],
   "source": [
    "# List of essential items\n",
    "essential_items = [\"keys\", \"wallet\", \"phone\", \"laptop\", \"charger\"]\n",
    "\n",
    "# Printing the initial reminder message\n",
    "print(\"Before you leave for office/college, make sure you have the following items:\")\n",
    "\n",
    "# Loop through the list and print each item\n",
    "for item in essential_items:\n",
    "    print(f\"- {item}\")\n",
    "\n",
    "# Loop until the user confirms they are ready to leave\n",
    "while True:\n",
    "    # Taking user input to check if they're ready to leave\n",
    "    ready_to_leave = input(\"\\nAre you ready to leave? (yes/no): \").lower()\n",
    "\n",
    "    # Asking user to enter an item to check if it's on the list\n",
    "    user_item = input(\"Enter an item to check if it's on your list: \").lower()\n",
    "\n",
    "    # Checking if the user input item is on the list\n",
    "    if user_item in essential_items:\n",
    "        print(f\"Yes, {user_item} is on your list!\")\n",
    "    else:\n",
    "        print(f\"No, {user_item} is not on your list.\")\n",
    "\n",
    "    # Validate if user input is alphabetic\n",
    "    if user_item.isalpha():\n",
    "        print(\"Valid input!\")\n",
    "    else:\n",
    "        print(\"Please enter a valid item.\")\n",
    "\n",
    "    # New Feature: Remind about all items except \"wallet\"\n",
    "    for item in essential_items:\n",
    "        if item != \"wallet\":\n",
    "            print(f\"Don't forget your {item}!\")\n",
    "\n",
    "    # Check if the user is ready and their item is packed\n",
    "    if ready_to_leave == \"yes\" and user_item in essential_items:\n",
    "        print(f\"You're ready and {user_item} is packed!\")\n",
    "        break  # Exit the loop since the user is ready\n",
    "\n",
    "    print(\"Take your time and check your items again.\")\n",
    "\n",
    "    # Option to add new items to the list\n",
    "    add_item = input(\"Do you want to add an item to your list? (yes/no): \").lower()\n",
    "\n",
    "    if add_item == \"yes\":\n",
    "        new_item = input(\"Enter the item you want to add: \").lower()\n",
    "        essential_items.append(new_item)\n",
    "        print(f\"New item '{new_item}' added!\")\n",
    "    else:\n",
    "        print(\"No new item added.\")\n",
    "\n",
    "    # Option to remove items from the list\n",
    "    remove_item = input(\"\\nDo you want to remove an item from your list? (yes/no): \").lower()\n",
    "\n",
    "    if remove_item == \"yes\":\n",
    "        item_to_remove = input(\"Enter the item you want to remove: \").lower()\n",
    "\n",
    "        # Check if the item exists before trying to remove it\n",
    "        if item_to_remove in essential_items:\n",
    "            essential_items.remove(item_to_remove)\n",
    "            print(f\"'{item_to_remove}' has been removed from the list.\")\n",
    "        else:\n",
    "            print(f\"'{item_to_remove}' is not in your list.\")\n",
    "    else:\n",
    "        print(\"No items removed.\")\n",
    "\n",
    "    # Loop to print updated list of essential items\n",
    "    print(\"\\nUpdated list of essential items:\")\n",
    "    for item in essential_items:\n",
    "        print(f\"- {item}\")\n",
    "\n",
    "print(\"Goodbye! Have a great day!\")\n"
   ]
  },
  {
   "cell_type": "code",
   "execution_count": null,
   "id": "2aacccc8-9066-4a9f-9970-63907430dbd3",
   "metadata": {},
   "outputs": [],
   "source": []
  }
 ],
 "metadata": {
  "kernelspec": {
   "display_name": "Python [conda env:base] *",
   "language": "python",
   "name": "conda-base-py"
  },
  "language_info": {
   "codemirror_mode": {
    "name": "ipython",
    "version": 3
   },
   "file_extension": ".py",
   "mimetype": "text/x-python",
   "name": "python",
   "nbconvert_exporter": "python",
   "pygments_lexer": "ipython3",
   "version": "3.12.7"
  }
 },
 "nbformat": 4,
 "nbformat_minor": 5
}
