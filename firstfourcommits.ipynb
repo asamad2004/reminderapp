{
 "cells": [
  {
   "cell_type": "code",
   "execution_count": null,
   "id": "2a630eba-c137-4111-a1ec-8bc05053796c",
   "metadata": {},
   "outputs": [],
   "source": [
    "# With this, I understood how to define variables in a way that can be easily understood.\n",
    "# To implement this, I use \"essential_items\" instead of \"items\" to make it more descriptive.\n",
    "# I also learned how a variable can hold different types of data, how to modify the data while keeping it in order,\n",
    "# and how to perform iteration using a \"list.\n",
    "\n",
    "essential_items = [\"keys\", \"wallet\", \"phone\", \"laptop\", \"charger\"]\n"
   ]
  },
  {
   "cell_type": "code",
   "execution_count": 4,
   "id": "e77bda3e-3829-4667-9041-0521c927b15e",
   "metadata": {},
   "outputs": [
    {
     "name": "stdout",
     "output_type": "stream",
     "text": [
      "Before you leave for office/college, make sure you have the following items:\n"
     ]
    }
   ],
   "source": [
    "# With the help of the print() function,\n",
    "# I print messages that make the program easy to understand \n",
    "# for the user and help in understanding what is happening in the program.\n",
    "\n",
    "print(\"Before you leave for office/college, make sure you have the following items:\")"
   ]
  },
  {
   "cell_type": "code",
   "execution_count": null,
   "id": "b831ab9f-fcf1-4867-8dfd-565eac193c2c",
   "metadata": {},
   "outputs": [],
   "source": [
    "# To know how many items I need to take before leaving for the office,\n",
    "# I use a \"for\" loop to print each element from the \"essential_items\" list,\n",
    "# allowing me to access each item.\n",
    "\n",
    "for item in essential_items:\n",
    "print(f\"- {item}\")"
   ]
  },
  {
   "cell_type": "code",
   "execution_count": null,
   "id": "c32a3ad1-aae9-4620-acd2-79df6c13d297",
   "metadata": {},
   "outputs": [],
   "source": [
    "# If I want to interact with the program to tell it that I’ve forgotten something,\n",
    "# want to add/remove something, or am ready to leave, I use the input() function.\n",
    "# I also use the .lower() function to convert the input string from uppercase to lowercase.\n",
    "\n",
    "ready_to_leave = input(\"\\nAre you ready to leave? (yes/no): \").lower()"
   ]
  }
 ],
 "metadata": {
  "kernelspec": {
   "display_name": "Python [conda env:base] *",
   "language": "python",
   "name": "conda-base-py"
  },
  "language_info": {
   "codemirror_mode": {
    "name": "ipython",
    "version": 3
   },
   "file_extension": ".py",
   "mimetype": "text/x-python",
   "name": "python",
   "nbconvert_exporter": "python",
   "pygments_lexer": "ipython3",
   "version": "3.12.7"
  }
 },
 "nbformat": 4,
 "nbformat_minor": 5
}
